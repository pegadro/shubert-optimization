{
 "cells": [
  {
   "cell_type": "markdown",
   "id": "9b451253-93d9-46ee-91cb-07abd1d2a289",
   "metadata": {},
   "source": [
    "# Shubert Function"
   ]
  },
  {
   "cell_type": "code",
   "execution_count": null,
   "id": "9ebd84ca-7cc3-4cea-acd0-6834a28ce17d",
   "metadata": {
    "tags": []
   },
   "outputs": [],
   "source": [
    "import numpy as np\n",
    "import plotly.graph_objects as go"
   ]
  },
  {
   "cell_type": "code",
   "execution_count": null,
   "id": "4fa446a9-1427-4f0d-a429-1fd0b67f5ec4",
   "metadata": {
    "tags": []
   },
   "outputs": [],
   "source": [
    "def shubert(x1, x2):\n",
    "    sum1 = np.sum([i * np.cos((i + 1) * x1 + i) for i in range(1, 6)])\n",
    "    sum2 = np.sum([i * np.cos((i + 1) * x2 + i) for i in range(1, 6)])\n",
    "    return sum1 * sum2"
   ]
  },
  {
   "cell_type": "code",
   "execution_count": null,
   "id": "fc995956-ddf1-43e5-ab8e-f3913679ded5",
   "metadata": {
    "tags": []
   },
   "outputs": [],
   "source": [
    "def build_coords(min_val, max_val):\n",
    "    x = np.linspace(min_val, max_val, 400)\n",
    "    y = np.linspace(min_val, max_val, 400)\n",
    "    X, Y = np.meshgrid(x, y)\n",
    "    shubert_vectorized = np.vectorize(shubert)\n",
    "    Z = shubert_vectorized(X,Y)\n",
    "    return X, Y, Z"
   ]
  },
  {
   "cell_type": "code",
   "execution_count": null,
   "id": "f4d79361-84a9-4b3e-9a9b-b9d9599ac7d3",
   "metadata": {
    "tags": []
   },
   "outputs": [],
   "source": [
    "def plot_contour(X,Y,Z):\n",
    "    fig = go.Figure(data=go.Contour(\n",
    "        z=Z,\n",
    "        x=X[0, :],\n",
    "        y=Y[:, 0],\n",
    "        colorscale='inferno',\n",
    "        contours=dict(\n",
    "            coloring='heatmap',\n",
    "            showlabels=True,\n",
    "            labelfont=dict(\n",
    "                size=11,\n",
    "                color='white',\n",
    "            )\n",
    "        )\n",
    "    ))\n",
    "    \n",
    "    fig.update_layout(\n",
    "        title='Mapa de contorno de la función Shubert',\n",
    "        width=600,\n",
    "        height=600\n",
    "    )\n",
    "    \n",
    "    fig.show()\n"
   ]
  },
  {
   "cell_type": "code",
   "execution_count": null,
   "id": "c23569ba-476a-4130-a67a-59dc75907905",
   "metadata": {},
   "outputs": [],
   "source": [
    "def plot_function(X,Y,Z):\n",
    "    fig = go.Figure(data=[go.Surface(z=Z, x=X, y=Y, colorscale='inferno')])\n",
    "    fig.update_layout(title='Función Shubert', autosize=False,\n",
    "                  width=800, height=800,\n",
    "                  margin=dict(l=65, r=50, b=65, t=90))\n",
    "\n",
    "    fig.show()"
   ]
  },
  {
   "cell_type": "code",
   "execution_count": null,
   "id": "aeb310a2-e1f0-4db6-bf1e-1b74939e2c3f",
   "metadata": {
    "tags": []
   },
   "outputs": [],
   "source": [
    "def plot_line(x,y,title,xaxis_title,yaxis_title):\n",
    "    fig = go.Figure(\n",
    "        data=[go.Scatter(x=x, y=y, mode=\"lines\", line=dict(width=2, color='blue'))],\n",
    "        layout=go.Layout(\n",
    "            title_text=title,\n",
    "            width=600,\n",
    "            height=600,\n",
    "            xaxis_title=xaxis_title,\n",
    "            yaxis_title=yaxis_title,\n",
    "            yaxis=dict(range=[0])\n",
    "        )\n",
    "    )\n",
    "    \n",
    "    fig.show()"
   ]
  },
  {
   "cell_type": "code",
   "execution_count": null,
   "id": "8a251be8-9a5b-45c7-ace3-a512de494f90",
   "metadata": {
    "tags": []
   },
   "outputs": [],
   "source": [
    "def make__animation(X,Y,Z,history):\n",
    "    trajectory = [np.append(point, shubert(point[0], point[1])) for point in history]\n",
    "\n",
    "    fig = go.Figure(data=[\n",
    "        go.Surface(z=Z, x=X, y=Y, contours_z=dict(show=True, usecolormap=True, project_z=True), opacity=0.15, colorscale='plasma'),\n",
    "    ]*2)\n",
    "\n",
    "    fig.update_layout(title='Función Shubert', autosize=False,\n",
    "                      width=500, height=500,\n",
    "                      margin=dict(l=65, r=50, b=65, t=90))\n",
    "\n",
    "    fig.frames = [\n",
    "        go.Frame(\n",
    "            data=[\n",
    "                go.Scatter3d(\n",
    "                    x=[coord[0]], y=[coord[1]], z=[coord[2]], mode='markers', marker=dict(size=8, color='green'),\n",
    "                    opacity=1,\n",
    "                    projection=dict(x=dict(show=True, opacity=0.7, scale=0.5), y=dict(show=True, opacity=0.7, scale=0.5), z=dict(show=True, opacity=0.7, scale=0.5)))\n",
    "            ],\n",
    "            name=str(k),\n",
    "            traces=[1],\n",
    "            layout=go.Layout(annotations=[\n",
    "                dict(xref=\"paper\", yref=\"paper\", x=0.05, y=0.95,\n",
    "                     text=f\"Valor actual: {coord[2]}\", showarrow=False, font=dict(size=14))\n",
    "            ])\n",
    "        )\n",
    "        for k, coord in enumerate(trajectory)\n",
    "    ]\n",
    "\n",
    "    sliders = [{\n",
    "        'steps': [{'args': [[f.name], {'frame': {'duration': 300, 'redraw': True}, 'mode': 'immediate', 'transition': {'duration': 300}}],\n",
    "                   'label': k, 'method': 'animate'} for k, f in enumerate(fig.frames)],\n",
    "        'transition': {'duration': 300},\n",
    "        'x': 0.1, 'y': 0, 'currentvalue': {'visible': True, 'prefix': 'Paso: '}\n",
    "    }]\n",
    "\n",
    "    fig.update_layout(\n",
    "        height=800, width=800,\n",
    "        updatemenus=[{\n",
    "            'buttons': [\n",
    "                {'args': [None, {\"frame\": {\"duration\": 500, \"redraw\": True}, \"fromcurrent\": True}],\n",
    "                 'label': 'Play',\n",
    "                 'method': 'animate'},\n",
    "                {'args': [[None], {'frame': {'duration': 0, 'redraw': True},\n",
    "                                   'mode': 'immediate',\n",
    "                                   'transition': {'duration': 0}}],\n",
    "                 'label': 'Pause',\n",
    "                 'method': 'animate'}\n",
    "            ],\n",
    "            'direction': 'left',\n",
    "            'pad': {'r': 10, 't': 87},\n",
    "            'showactive': False,\n",
    "            'type': 'buttons',\n",
    "            'x': 0.1,\n",
    "            'xanchor': 'right',\n",
    "            'y': 0,\n",
    "            'yanchor': 'top'\n",
    "        }],\n",
    "        sliders=sliders\n",
    "    )\n",
    "\n",
    "    fig.show()\n",
    "    #plot(fig, filename=\"recocido.html\", auto_open=True)"
   ]
  },
  {
   "cell_type": "markdown",
   "id": "4ad91d7c-2b8c-4bb3-8ebc-57ed5e31d1e0",
   "metadata": {
    "tags": []
   },
   "source": [
    "## Gráfica en intervalo [-10,10]"
   ]
  },
  {
   "cell_type": "code",
   "execution_count": null,
   "id": "cb577c40-133e-4c87-89c0-2ccc26ff51ac",
   "metadata": {
    "tags": []
   },
   "outputs": [],
   "source": [
    "X, Y, Z = build_coords(-10,10)"
   ]
  },
  {
   "cell_type": "code",
   "execution_count": null,
   "id": "af8b8af9-10b1-4c3b-a45d-3bf529c84c77",
   "metadata": {
    "tags": []
   },
   "outputs": [],
   "source": [
    "plot_function(X,Y,Z)"
   ]
  },
  {
   "cell_type": "code",
   "execution_count": null,
   "id": "49251fae-a7d2-4541-b937-75198b3c0ae6",
   "metadata": {
    "tags": []
   },
   "outputs": [],
   "source": [
    "plot_contour(X,Y,Z)"
   ]
  },
  {
   "cell_type": "markdown",
   "id": "38fd266e-1b2f-4aec-b43b-105ad7cd3a3b",
   "metadata": {
    "tags": []
   },
   "source": [
    "## Recocido simulado"
   ]
  },
  {
   "cell_type": "code",
   "execution_count": null,
   "id": "7217b83c-9f2a-4659-8ffe-d700f8948278",
   "metadata": {
    "tags": []
   },
   "outputs": [],
   "source": [
    "class SimulatedAnnealing:\n",
    "    def __init__(self, max_iterations=1500, initial_temperature=1000, objective_function=shubert):\n",
    "        self.max_iterations = max_iterations\n",
    "        self.initial_temperature = initial_temperature\n",
    "        self.cooling_factor = 0.95\n",
    "        self.objective_function = objective_function\n",
    "        \n",
    "    def temperature_change(self, current_temperature, cooling_factor):\n",
    "        return current_temperature * cooling_factor\n",
    "            \n",
    "        \n",
    "    def simulated_annealing(self, initial, cooling_factor=0.95):\n",
    "        current = initial\n",
    "        current_value = self.objective_function(current[0], current[1])\n",
    "        history = []\n",
    "        values_history = []\n",
    "        \n",
    "        current_temperature = self.initial_temperature\n",
    "        \n",
    "        iterations = 0\n",
    "        \n",
    "        for _ in range(self.max_iterations):\n",
    "            current_temperature = self.temperature_change(current_temperature, cooling_factor)\n",
    "            \n",
    "            successor = np.random.uniform(low=-10, high=10, size=2)\n",
    "            successor_value = self.objective_function(successor[0], successor[1])\n",
    "            \n",
    "            delta_value = successor_value - current_value\n",
    "            \n",
    "            if delta_value < 0:\n",
    "                current = successor\n",
    "                current_value = successor_value\n",
    "                \n",
    "                history.append(current)\n",
    "                values_history.append(current_value)\n",
    "            else:\n",
    "                acceptance_probability = np.exp(-delta_value / current_temperature)\n",
    "                if np.random.random() < acceptance_probability:\n",
    "                    current = successor\n",
    "                    current_value = successor_value\n",
    "                    \n",
    "                    history.append(current)\n",
    "                    values_history.append(current_value)\n",
    "        \n",
    "        return current, current_value, history, values_history"
   ]
  },
  {
   "cell_type": "code",
   "execution_count": null,
   "id": "ca0efd66-44e4-48f5-b69b-2475102e1c29",
   "metadata": {
    "tags": []
   },
   "outputs": [],
   "source": [
    "cooling_factors = [0.94,0.945,0.95,0.995]\n",
    "fig = go.Figure()\n",
    "\n",
    "for cooling_factor in cooling_factors:\n",
    "    current_temp = 1000\n",
    "    x = []\n",
    "    y = []\n",
    "    for i in range(1500):\n",
    "        x.append(i)\n",
    "        y.append(current_temp)\n",
    "        current_temp = SimulatedAnnealing().temperature_change(current_temp, cooling_factor)\n",
    "    \n",
    "    fig.add_trace(\n",
    "        go.Scatter(x=x, y=y, mode=\"lines\", line=dict(width=2), name=f\"cooling_factor={cooling_factor}\")\n",
    "    )\n",
    "    \n",
    "    \n",
    "fig.update_layout(height=600, width=800, title_text=\"Cambios de temperatura geometricos\", xaxis_title=\"Iteraciones\", yaxis_title=\"Temperatura\")\n",
    "\n",
    "fig.show()"
   ]
  },
  {
   "cell_type": "code",
   "execution_count": null,
   "id": "fdf609b4-974a-401f-a93e-23212d4529d8",
   "metadata": {
    "tags": []
   },
   "outputs": [],
   "source": [
    "cooling_factors = [0.94,0.945,0.95,0.995]\n",
    "fig = go.Figure()\n",
    "\n",
    "for cooling_factor in cooling_factors:\n",
    "    initial = np.random.uniform(low=-10, high=10, size=2)\n",
    "    minimum, value, history, values_history = SimulatedAnnealing().simulated_annealing(initial,cooling_factor)\n",
    "    x = list(range(len(values_history)))\n",
    "    \n",
    "    fig.add_trace(\n",
    "        go.Scatter(x=x, y=values_history, mode=\"lines\", line=dict(width=2), name=f\"cooling_factor={cooling_factor}\")\n",
    "    )\n",
    "    \n",
    "fig.update_layout(height=600, width=800, title_text=\"Valores vs. No. de sucesores\", xaxis_title=\"No. de sucesores\", yaxis_title=\"Valores\")\n",
    "\n",
    "fig.show()"
   ]
  },
  {
   "cell_type": "code",
   "execution_count": null,
   "id": "e03eb755-95bc-490a-9123-63b42d796ab9",
   "metadata": {
    "tags": []
   },
   "outputs": [],
   "source": [
    "initial = np.random.uniform(low=-10, high=10, size=2)\n",
    "minimum, value, history, values_history = SimulatedAnnealing().simulated_annealing(initial,cooling_factor=0.945)"
   ]
  },
  {
   "cell_type": "code",
   "execution_count": null,
   "id": "3323d255-771f-4a95-88d0-e963ab6f225f",
   "metadata": {
    "tags": []
   },
   "outputs": [],
   "source": [
    "make__animation(X,Y,Z,history)"
   ]
  },
  {
   "cell_type": "markdown",
   "id": "4f5fa697-10cb-444e-a09f-c9fa1db0c41a",
   "metadata": {},
   "source": [
    "## Algoritmo genético "
   ]
  },
  {
   "cell_type": "code",
   "execution_count": null,
   "id": "d057fb16-fc86-4bca-bbc4-e3350e056cb9",
   "metadata": {
    "tags": []
   },
   "outputs": [],
   "source": [
    "class GeneticAlgorithm:\n",
    "    def __init__(self, objective_function=shubert):\n",
    "        self.objective_function = objective_function\n",
    "        self.epsilon = 1\n",
    "    \n",
    "    def generate_random_individual(self):\n",
    "        return np.random.uniform(low=-10, high=10, size=2)\n",
    "        \n",
    "    def compute_fitness(self, individual):\n",
    "        return -self.objective_function(individual[0], individual[1])\n",
    "    \n",
    "    def roulette_selection(self, population):\n",
    "        fitness_array = np.array([self.compute_fitness(individual) for individual in population])\n",
    "        fitness_array = fitness_array + (np.abs(np.min(fitness_array)) + self.epsilon)\n",
    "        sum_fitness = np.sum(fitness_array)\n",
    "        selection_probability = fitness_array / sum_fitness\n",
    "        selected_index = np.random.choice(range(len(population)), p=selection_probability)\n",
    "        return population[selected_index]\n",
    "    \n",
    "    def tournament_selection(self, population):\n",
    "        tournament = random.sample(population, 3)\n",
    "        tournament.sort(key=lambda individual: self.compute_fitness(individual),reverse=True)\n",
    "        return tournament[0]\n",
    "    \n",
    "    def crossover(self, parent1, parent2):\n",
    "        beta = np.random.uniform(low=-0.25, high=1.25, size=parent1.shape[0])\n",
    "        \n",
    "        child = np.zeros(parent1.shape[0])\n",
    "        \n",
    "        for i in range(parent1.shape[0]):\n",
    "            child[i] = (parent1[i] * beta[i]) + (parent2[i] * (1 - beta[i]))\n",
    "    \n",
    "        return child\n",
    "    \n",
    "    def mutation(self, individual):\n",
    "        std = 20 / 6\n",
    "        \n",
    "        for i in range(len(individual)):\n",
    "            individual[i] += np.random.normal(0, std)\n",
    "            \n",
    "            if individual[i] < -10:\n",
    "                individual[i] = -10\n",
    "            elif individual[i] > 10:\n",
    "                individual[i] = 10\n",
    "        \n",
    "        return individual\n",
    "    \n",
    "    def genetic_algorithm(self, population_size=100, generations=100, crossover_probability=0.8, mutation_probability=0.02):\n",
    "        population = [self.generate_random_individual() for _ in range(population_size)]\n",
    "        history = []\n",
    "        \n",
    "        for generation in range(generations):\n",
    "            \n",
    "            population = sorted(population, key=lambda individual: self.compute_fitness(individual), reverse=True)\n",
    "            fittest_individual = population[0]\n",
    "            \n",
    "            history.append(fittest_individual)\n",
    "            \n",
    "            new_population = []\n",
    "\n",
    "            while len(new_population) < population_size:\n",
    "                parent1 = self.tournament_selection(population)\n",
    "                parent2 = self.tournament_selection(population)\n",
    "                \n",
    "                if np.random.random() < crossover_probability:\n",
    "                    child = self.crossover(parent1, parent2)\n",
    "                else:\n",
    "                    child = random.choice([parent1, parent2])\n",
    "                    \n",
    "                if np.random.random() < mutation_probability:\n",
    "                    child = self.mutation(child)\n",
    "                \n",
    "                new_population.append(child)\n",
    "                \n",
    "            population = new_population\n",
    "        \n",
    "        fittest_individual = population[0]\n",
    "        \n",
    "        return fittest_individual, history"
   ]
  },
  {
   "cell_type": "code",
   "execution_count": null,
   "id": "4975bb24-9dab-44f0-82d7-9d7667c16267",
   "metadata": {
    "tags": []
   },
   "outputs": [],
   "source": [
    "fittest_individual, history = GeneticAlgorithm().genetic_algorithm()"
   ]
  },
  {
   "cell_type": "code",
   "execution_count": null,
   "id": "8aa1f701-7e23-481a-9aa9-b9ed3b763ec8",
   "metadata": {},
   "outputs": [],
   "source": [
    "make__animation(X,Y,Z,history)"
   ]
  }
 ],
 "metadata": {
  "kernelspec": {
   "display_name": "Python 3 (ipykernel)",
   "language": "python",
   "name": "python3"
  },
  "language_info": {
   "codemirror_mode": {
    "name": "ipython",
    "version": 3
   },
   "file_extension": ".py",
   "mimetype": "text/x-python",
   "name": "python",
   "nbconvert_exporter": "python",
   "pygments_lexer": "ipython3",
   "version": "3.11.5"
  }
 },
 "nbformat": 4,
 "nbformat_minor": 5
}
